{
 "cells": [
  {
   "cell_type": "code",
   "execution_count": 1,
   "metadata": {
    "id": "bTxt1KnCSKY2"
   },
   "outputs": [],
   "source": [
    "import torch\n",
    "import torchvision\n",
    "import torchvision.transforms as transforms\n",
    "import numpy as np\n",
    "import torch.nn as nn\n",
    "import torch.nn.functional as F\n",
    "device = torch.device(\"cuda\" if torch.cuda.is_available() else \"cpu\")"
   ]
  },
  {
   "cell_type": "code",
   "execution_count": 2,
   "metadata": {},
   "outputs": [
    {
     "name": "stdout",
     "output_type": "stream",
     "text": [
      "@array_function_dispatch(_svd_dispatcher)\n",
      "def svd(a, full_matrices=True, compute_uv=True, hermitian=False):\n",
      "    \"\"\"\n",
      "    Singular Value Decomposition.\n",
      "\n",
      "    When `a` is a 2D array, and ``full_matrices=False``, then it is\n",
      "    factorized as ``u @ np.diag(s) @ vh = (u * s) @ vh``, where\n",
      "    `u` and the Hermitian transpose of `vh` are 2D arrays with\n",
      "    orthonormal columns and `s` is a 1D array of `a`'s singular\n",
      "    values. When `a` is higher-dimensional, SVD is applied in\n",
      "    stacked mode as explained below.\n",
      "\n",
      "    Parameters\n",
      "    ----------\n",
      "    a : (..., M, N) array_like\n",
      "        A real or complex array with ``a.ndim >= 2``.\n",
      "    full_matrices : bool, optional\n",
      "        If True (default), `u` and `vh` have the shapes ``(..., M, M)`` and\n",
      "        ``(..., N, N)``, respectively.  Otherwise, the shapes are\n",
      "        ``(..., M, K)`` and ``(..., K, N)``, respectively, where\n",
      "        ``K = min(M, N)``.\n",
      "    compute_uv : bool, optional\n",
      "        Whether or not to compute `u` and `vh` in addition to `s`.  True\n",
      "        by default.\n",
      "    hermitian : bool, optional\n",
      "        If True, `a` is assumed to be Hermitian (symmetric if real-valued),\n",
      "        enabling a more efficient method for finding singular values.\n",
      "        Defaults to False.\n",
      "\n",
      "        .. versionadded:: 1.17.0\n",
      "\n",
      "    Returns\n",
      "    -------\n",
      "    When `compute_uv` is True, the result is a namedtuple with the following\n",
      "    attribute names:\n",
      "\n",
      "    U : { (..., M, M), (..., M, K) } array\n",
      "        Unitary array(s). The first ``a.ndim - 2`` dimensions have the same\n",
      "        size as those of the input `a`. The size of the last two dimensions\n",
      "        depends on the value of `full_matrices`. Only returned when\n",
      "        `compute_uv` is True.\n",
      "    S : (..., K) array\n",
      "        Vector(s) with the singular values, within each vector sorted in\n",
      "        descending order. The first ``a.ndim - 2`` dimensions have the same\n",
      "        size as those of the input `a`.\n",
      "    Vh : { (..., N, N), (..., K, N) } array\n",
      "        Unitary array(s). The first ``a.ndim - 2`` dimensions have the same\n",
      "        size as those of the input `a`. The size of the last two dimensions\n",
      "        depends on the value of `full_matrices`. Only returned when\n",
      "        `compute_uv` is True.\n",
      "\n",
      "    Raises\n",
      "    ------\n",
      "    LinAlgError\n",
      "        If SVD computation does not converge.\n",
      "\n",
      "    See Also\n",
      "    --------\n",
      "    scipy.linalg.svd : Similar function in SciPy.\n",
      "    scipy.linalg.svdvals : Compute singular values of a matrix.\n",
      "\n",
      "    Notes\n",
      "    -----\n",
      "\n",
      "    .. versionchanged:: 1.8.0\n",
      "       Broadcasting rules apply, see the `numpy.linalg` documentation for\n",
      "       details.\n",
      "\n",
      "    The decomposition is performed using LAPACK routine ``_gesdd``.\n",
      "\n",
      "    SVD is usually described for the factorization of a 2D matrix :math:`A`.\n",
      "    The higher-dimensional case will be discussed below. In the 2D case, SVD is\n",
      "    written as :math:`A = U S V^H`, where :math:`A = a`, :math:`U= u`,\n",
      "    :math:`S= \\\\mathtt{np.diag}(s)` and :math:`V^H = vh`. The 1D array `s`\n",
      "    contains the singular values of `a` and `u` and `vh` are unitary. The rows\n",
      "    of `vh` are the eigenvectors of :math:`A^H A` and the columns of `u` are\n",
      "    the eigenvectors of :math:`A A^H`. In both cases the corresponding\n",
      "    (possibly non-zero) eigenvalues are given by ``s**2``.\n",
      "\n",
      "    If `a` has more than two dimensions, then broadcasting rules apply, as\n",
      "    explained in :ref:`routines.linalg-broadcasting`. This means that SVD is\n",
      "    working in \"stacked\" mode: it iterates over all indices of the first\n",
      "    ``a.ndim - 2`` dimensions and for each combination SVD is applied to the\n",
      "    last two indices. The matrix `a` can be reconstructed from the\n",
      "    decomposition with either ``(u * s[..., None, :]) @ vh`` or\n",
      "    ``u @ (s[..., None] * vh)``. (The ``@`` operator can be replaced by the\n",
      "    function ``np.matmul`` for python versions below 3.5.)\n",
      "\n",
      "    If `a` is a ``matrix`` object (as opposed to an ``ndarray``), then so are\n",
      "    all the return values.\n",
      "\n",
      "    Examples\n",
      "    --------\n",
      "    >>> a = np.random.randn(9, 6) + 1j*np.random.randn(9, 6)\n",
      "    >>> b = np.random.randn(2, 7, 8, 3) + 1j*np.random.randn(2, 7, 8, 3)\n",
      "\n",
      "    Reconstruction based on full SVD, 2D case:\n",
      "\n",
      "    >>> U, S, Vh = np.linalg.svd(a, full_matrices=True)\n",
      "    >>> U.shape, S.shape, Vh.shape\n",
      "    ((9, 9), (6,), (6, 6))\n",
      "    >>> np.allclose(a, np.dot(U[:, :6] * S, Vh))\n",
      "    True\n",
      "    >>> smat = np.zeros((9, 6), dtype=complex)\n",
      "    >>> smat[:6, :6] = np.diag(S)\n",
      "    >>> np.allclose(a, np.dot(U, np.dot(smat, Vh)))\n",
      "    True\n",
      "\n",
      "    Reconstruction based on reduced SVD, 2D case:\n",
      "\n",
      "    >>> U, S, Vh = np.linalg.svd(a, full_matrices=False)\n",
      "    >>> U.shape, S.shape, Vh.shape\n",
      "    ((9, 6), (6,), (6, 6))\n",
      "    >>> np.allclose(a, np.dot(U * S, Vh))\n",
      "    True\n",
      "    >>> smat = np.diag(S)\n",
      "    >>> np.allclose(a, np.dot(U, np.dot(smat, Vh)))\n",
      "    True\n",
      "\n",
      "    Reconstruction based on full SVD, 4D case:\n",
      "\n",
      "    >>> U, S, Vh = np.linalg.svd(b, full_matrices=True)\n",
      "    >>> U.shape, S.shape, Vh.shape\n",
      "    ((2, 7, 8, 8), (2, 7, 3), (2, 7, 3, 3))\n",
      "    >>> np.allclose(b, np.matmul(U[..., :3] * S[..., None, :], Vh))\n",
      "    True\n",
      "    >>> np.allclose(b, np.matmul(U[..., :3], S[..., None] * Vh))\n",
      "    True\n",
      "\n",
      "    Reconstruction based on reduced SVD, 4D case:\n",
      "\n",
      "    >>> U, S, Vh = np.linalg.svd(b, full_matrices=False)\n",
      "    >>> U.shape, S.shape, Vh.shape\n",
      "    ((2, 7, 8, 3), (2, 7, 3), (2, 7, 3, 3))\n",
      "    >>> np.allclose(b, np.matmul(U * S[..., None, :], Vh))\n",
      "    True\n",
      "    >>> np.allclose(b, np.matmul(U, S[..., None] * Vh))\n",
      "    True\n",
      "\n",
      "    \"\"\"\n",
      "    import numpy as _nx\n",
      "    a, wrap = _makearray(a)\n",
      "\n",
      "    if hermitian:\n",
      "        # note: lapack svd returns eigenvalues with s ** 2 sorted descending,\n",
      "        # but eig returns s sorted ascending, so we re-order the eigenvalues\n",
      "        # and related arrays to have the correct order\n",
      "        if compute_uv:\n",
      "            s, u = eigh(a)\n",
      "            sgn = sign(s)\n",
      "            s = abs(s)\n",
      "            sidx = argsort(s)[..., ::-1]\n",
      "            sgn = _nx.take_along_axis(sgn, sidx, axis=-1)\n",
      "            s = _nx.take_along_axis(s, sidx, axis=-1)\n",
      "            u = _nx.take_along_axis(u, sidx[..., None, :], axis=-1)\n",
      "            # singular values are unsigned, move the sign into v\n",
      "            vt = transpose(u * sgn[..., None, :]).conjugate()\n",
      "            return SVDResult(wrap(u), s, wrap(vt))\n",
      "        else:\n",
      "            s = eigvalsh(a)\n",
      "            s = abs(s)\n",
      "            return sort(s)[..., ::-1]\n",
      "\n",
      "    _assert_stacked_2d(a)\n",
      "    t, result_t = _commonType(a)\n",
      "\n",
      "    extobj = get_linalg_error_extobj(_raise_linalgerror_svd_nonconvergence)\n",
      "\n",
      "    m, n = a.shape[-2:]\n",
      "    if compute_uv:\n",
      "        if full_matrices:\n",
      "            if m < n:\n",
      "                gufunc = _umath_linalg.svd_m_f\n",
      "            else:\n",
      "                gufunc = _umath_linalg.svd_n_f\n",
      "        else:\n",
      "            if m < n:\n",
      "                gufunc = _umath_linalg.svd_m_s\n",
      "            else:\n",
      "                gufunc = _umath_linalg.svd_n_s\n",
      "\n",
      "        signature = 'D->DdD' if isComplexType(t) else 'd->ddd'\n",
      "        u, s, vh = gufunc(a, signature=signature, extobj=extobj)\n",
      "        u = u.astype(result_t, copy=False)\n",
      "        s = s.astype(_realType(result_t), copy=False)\n",
      "        vh = vh.astype(result_t, copy=False)\n",
      "        return SVDResult(wrap(u), s, wrap(vh))\n",
      "    else:\n",
      "        if m < n:\n",
      "            gufunc = _umath_linalg.svd_m\n",
      "        else:\n",
      "            gufunc = _umath_linalg.svd_n\n",
      "\n",
      "        signature = 'D->d' if isComplexType(t) else 'd->d'\n",
      "        s = gufunc(a, signature=signature, extobj=extobj)\n",
      "        s = s.astype(_realType(result_t), copy=False)\n",
      "        return s\n",
      "\n"
     ]
    }
   ],
   "source": [
    "import inspect\n",
    "# from scipy import linalg\n",
    "import numpy as np\n",
    "print(inspect.getsource(np.linalg.svd))"
   ]
  },
  {
   "cell_type": "code",
   "execution_count": 3,
   "metadata": {
    "colab": {
     "base_uri": "https://localhost:8080/"
    },
    "id": "C_tU9R-Uuixu",
    "outputId": "c68b675a-508c-4203-d58b-cca5d96c7dd6"
   },
   "outputs": [
    {
     "name": "stdout",
     "output_type": "stream",
     "text": [
      "Files already downloaded and verified\n",
      "Files already downloaded and verified\n"
     ]
    }
   ],
   "source": [
    "#  Download and load CIFAR-10 dataset\n",
    "transform = transforms.Compose([transforms.Grayscale(num_output_channels=1), transforms.ToTensor()])\n",
    "trainset = torchvision.datasets.CIFAR10(root='./data', train=True, download=True, transform=transform)\n",
    "trainloader = torch.utils.data.DataLoader(trainset, batch_size=64, shuffle=True)\n",
    "\n",
    "testset = torchvision.datasets.CIFAR10(root='./data', train=False, download=True, transform=transform)\n",
    "testloader = torch.utils.data.DataLoader(testset, batch_size=64, shuffle=False)\n",
    "\n",
    "def compute_svd_singular_values(image_batch):\n",
    "    singular_values = []\n",
    "    for image in image_batch:\n",
    "        squeeze = image.squeeze()\n",
    "        U, S, V = torch.svd(squeeze)\n",
    "        singular_values.append(S)\n",
    "    return torch.stack(singular_values)\n",
    "\n",
    "# Compute singular values for train and test sets\n",
    "train_singular_values = [compute_svd_singular_values(batch[0]).to(device) for batch in trainloader]\n",
    "test_singular_values = [compute_svd_singular_values(batch[0]).to(device) for batch in testloader]"
   ]
  },
  {
   "cell_type": "code",
   "execution_count": 4,
   "metadata": {
    "colab": {
     "base_uri": "https://localhost:8080/"
    },
    "id": "SFxrnA5xvrGG",
    "outputId": "27ecdd24-0003-4cd4-c745-235ce20e30ec"
   },
   "outputs": [
    {
     "data": {
      "text/plain": [
       "64"
      ]
     },
     "execution_count": 4,
     "metadata": {},
     "output_type": "execute_result"
    }
   ],
   "source": [
    "len(train_singular_values[0])"
   ]
  },
  {
   "cell_type": "markdown",
   "metadata": {
    "id": "NZCrr0_4yB9w"
   },
   "source": [
    "### Step 2: Neural Network Training\n",
    "\n",
    "#### A. Define the Neural Network Model"
   ]
  },
  {
   "cell_type": "code",
   "execution_count": 5,
   "metadata": {
    "id": "KF4aLf03xeFd"
   },
   "outputs": [],
   "source": [
    "class SVDPredictor(nn.Module):\n",
    "    def __init__(self):\n",
    "        super(SVDPredictor, self).__init__()\n",
    "        self.fc1 = nn.Linear(32*32, 512)\n",
    "        self.fc2 = nn.Linear(512, 256)\n",
    "        self.fc3 = nn.Linear(256, 32)  # Predicting 32 singular values\n",
    "\n",
    "    def forward(self, x):\n",
    "        x = F.relu(self.fc1(x))\n",
    "        x = F.dropout(x, p=0.5)\n",
    "        x = F.relu(self.fc2(x))\n",
    "        x = F.dropout(x, p=0.5)\n",
    "        return self.fc3(x)\n",
    "\n",
    "# move the model to gpu\n",
    "model = SVDPredictor().to(device)"
   ]
  },
  {
   "cell_type": "markdown",
   "metadata": {
    "id": "BZAjS1C4yLof"
   },
   "source": [
    "#### B. Define Loss Function and Optimizer"
   ]
  },
  {
   "cell_type": "code",
   "execution_count": 6,
   "metadata": {
    "id": "F_bcKTXEyQy2"
   },
   "outputs": [],
   "source": [
    "import torch.optim as optim\n",
    "\n",
    "criterion = nn.L1Loss()\n",
    "optimizer = optim.Adam(model.parameters(), lr=0.00001)\n"
   ]
  },
  {
   "cell_type": "markdown",
   "metadata": {
    "id": "8jAFgEBUyicy"
   },
   "source": [
    "#### C. Training the Model"
   ]
  },
  {
   "cell_type": "code",
   "execution_count": 11,
   "metadata": {
    "colab": {
     "base_uri": "https://localhost:8080/"
    },
    "id": "NFIyGBHywHiy",
    "outputId": "12a3f109-a73d-41fb-e67f-5b053c2561bb"
   },
   "outputs": [
    {
     "name": "stdout",
     "output_type": "stream",
     "text": [
      "Epoch [1/50], Loss: 0.2230\n",
      "Epoch [2/50], Loss: 0.2223\n",
      "Epoch [3/50], Loss: 0.2223\n",
      "Epoch [4/50], Loss: 0.2222\n",
      "Epoch [5/50], Loss: 0.2222\n",
      "Epoch [6/50], Loss: 0.2220\n",
      "Epoch [7/50], Loss: 0.2224\n",
      "Epoch [8/50], Loss: 0.2217\n",
      "Epoch [9/50], Loss: 0.2224\n",
      "Epoch [10/50], Loss: 0.2213\n",
      "Epoch [11/50], Loss: 0.2215\n",
      "Epoch [12/50], Loss: 0.2216\n",
      "Epoch [13/50], Loss: 0.2219\n",
      "Epoch [14/50], Loss: 0.2214\n",
      "Epoch [15/50], Loss: 0.2214\n",
      "Epoch [16/50], Loss: 0.2207\n",
      "Epoch [17/50], Loss: 0.2214\n",
      "Epoch [18/50], Loss: 0.2215\n",
      "Epoch [19/50], Loss: 0.2215\n",
      "Epoch [20/50], Loss: 0.2215\n",
      "Epoch [21/50], Loss: 0.2206\n",
      "Epoch [22/50], Loss: 0.2210\n",
      "Epoch [23/50], Loss: 0.2210\n",
      "Epoch [24/50], Loss: 0.2201\n",
      "Epoch [25/50], Loss: 0.2206\n",
      "Epoch [26/50], Loss: 0.2206\n",
      "Epoch [27/50], Loss: 0.2204\n",
      "Epoch [28/50], Loss: 0.2201\n",
      "Epoch [29/50], Loss: 0.2204\n",
      "Epoch [30/50], Loss: 0.2199\n",
      "Epoch [31/50], Loss: 0.2201\n",
      "Epoch [32/50], Loss: 0.2201\n",
      "Epoch [33/50], Loss: 0.2204\n",
      "Epoch [34/50], Loss: 0.2206\n",
      "Epoch [35/50], Loss: 0.2204\n",
      "Epoch [36/50], Loss: 0.2201\n",
      "Epoch [37/50], Loss: 0.2205\n",
      "Epoch [38/50], Loss: 0.2199\n",
      "Epoch [39/50], Loss: 0.2202\n",
      "Epoch [40/50], Loss: 0.2199\n",
      "Epoch [41/50], Loss: 0.2196\n",
      "Epoch [42/50], Loss: 0.2202\n",
      "Epoch [43/50], Loss: 0.2197\n",
      "Epoch [44/50], Loss: 0.2198\n",
      "Epoch [45/50], Loss: 0.2203\n",
      "Epoch [46/50], Loss: 0.2197\n",
      "Epoch [47/50], Loss: 0.2199\n",
      "Epoch [48/50], Loss: 0.2195\n",
      "Epoch [49/50], Loss: 0.2198\n",
      "Epoch [50/50], Loss: 0.2192\n",
      "Finished Training\n"
     ]
    }
   ],
   "source": [
    "# Training loop\n",
    "num_epochs = 50  # Set the number of epochs\n",
    "print_every_n_batches = 100  # Print log after every 100 batches\n",
    "\n",
    "train_losses = []  # 记录每个epoch的训练损失\n",
    "\n",
    "for epoch in range(num_epochs):\n",
    "    running_loss = 0.0\n",
    "    for i, (images, _) in enumerate(trainloader):\n",
    "        images = images.view(images.shape[0], -1).to(device)\n",
    "        labels = train_singular_values[i]  # Precomputed singular values\n",
    "\n",
    "        optimizer.zero_grad()\n",
    "        outputs = model(images)\n",
    "        loss = criterion(outputs, labels)\n",
    "        loss.backward()\n",
    "        optimizer.step()\n",
    "\n",
    "        running_loss += loss.item()\n",
    "\n",
    "        # Log the running loss\n",
    "        # if (i + 1) % print_every_n_batches == 0:\n",
    "        #     print(f'Epoch [{epoch + 1}/{num_epochs}], Step [{i + 1}/{len(trainloader)}], Loss: {running_loss / print_every_n_batches:.4f}')\n",
    "        #     running_loss = 0.0\n",
    "    epoch_loss = running_loss / len(trainloader)\n",
    "    train_losses.append(epoch_loss)\n",
    "    print(f'Epoch [{epoch + 1}/{num_epochs}], Loss: {epoch_loss:.4f}')\n",
    "print('Finished Training')\n",
    "\n"
   ]
  },
  {
   "cell_type": "markdown",
   "metadata": {
    "id": "UFewTIJh0jKv"
   },
   "source": [
    "### Step 3: Evaluation\n"
   ]
  },
  {
   "cell_type": "markdown",
   "metadata": {
    "id": "fTH8TYUd1R2b"
   },
   "source": [
    "##### Implementing NMSE and MAE Computation"
   ]
  },
  {
   "cell_type": "code",
   "execution_count": 12,
   "metadata": {
    "id": "ehXV5nET1J6F"
   },
   "outputs": [],
   "source": [
    "def compute_nmse(outputs, labels):\n",
    "    mse = ((outputs - labels) ** 2).mean(axis=1)\n",
    "    norm = (labels ** 2).mean(axis=1)\n",
    "    nmse = mse / norm\n",
    "    return nmse\n",
    "\n",
    "def compute_mae(outputs, labels):\n",
    "    mae = torch.abs(outputs - labels).mean(axis=1)\n",
    "    return mae\n"
   ]
  },
  {
   "cell_type": "code",
   "execution_count": 13,
   "metadata": {
    "colab": {
     "base_uri": "https://localhost:8080/"
    },
    "id": "ZpsMur4-yvuf",
    "outputId": "95bab850-406c-49bd-bcfb-8c6189b5adfc"
   },
   "outputs": [],
   "source": [
    "model.eval()  # Set the model to evaluation mode\n",
    "\n",
    "total_nmse = torch.Tensor().to(device)  # Use PyTorch tensor for efficiency\n",
    "total_mae = torch.Tensor().to(device)\n",
    "total_samples = 0\n",
    "\n",
    "val_losses = []  # 记录每个epoch的验证损失\n",
    "\n",
    "with torch.no_grad():\n",
    "    for epoch in range(num_epochs):\n",
    "        running_val_loss = 0.0\n",
    "        for i, (images, _) in enumerate(testloader):\n",
    "            images = images.view(images.shape[0], -1).to(device)\n",
    "            labels = test_singular_values[i].to(device)  # Use precomputed singular values\n",
    "\n",
    "            outputs = model(images)\n",
    "            nmse = compute_nmse(outputs, labels)\n",
    "            mae = compute_mae(outputs, labels)\n",
    "\n",
    "            total_nmse = torch.cat((total_nmse, nmse.unsqueeze(0)), dim=1)  # Efficiently concatenate tensors\n",
    "            total_mae = torch.cat((total_mae, mae.unsqueeze(0)), dim=1)\n",
    "            total_samples += images.size(0)\n",
    "            val_loss = criterion(outputs, labels).item()\n",
    "            running_val_loss += val_loss\n",
    "        epoch_val_loss = running_val_loss / len(testloader)\n",
    "        val_losses.append(epoch_val_loss)\n",
    "        \n",
    "\n",
    "# Convert to Python list for further processing if necessary\n",
    "total_nmse = total_nmse.flatten().cpu().numpy()\n",
    "total_mae = total_mae.flatten().cpu().numpy()\n"
   ]
  },
  {
   "cell_type": "code",
   "execution_count": 14,
   "metadata": {},
   "outputs": [
    {
     "data": {
      "image/png": "[encoded data removed]",
      "text/plain": [
       "<Figure size 640x480 with 1 Axes>"
      ]
     },
     "metadata": {},
     "output_type": "display_data"
    }
   ],
   "source": [
    "import matplotlib.pyplot as plt\n",
    "\n",
    "epochs = range(1, num_epochs + 1)\n",
    "plt.plot(epochs, train_losses, 'bo-', label='Training Loss')\n",
    "plt.plot(epochs, val_losses, 'ro-', label='Validation Loss')\n",
    "plt.title('Training and Validation Loss')\n",
    "plt.xlabel('Epoch')\n",
    "plt.ylabel('Loss')\n",
    "plt.legend()\n",
    "plt.show()\n"
   ]
  },
  {
   "cell_type": "code",
   "execution_count": 16,
   "metadata": {
    "id": "3Q14ruxM1yk6"
   },
   "outputs": [
    {
     "data": {
      "image/png": "[encoded data removed]",
      "text/plain": [
       "<Figure size 1200x600 with 2 Axes>"
      ]
     },
     "metadata": {},
     "output_type": "display_data"
    }
   ],
   "source": [
    "import matplotlib.pyplot as plt\n",
    "import numpy as np\n",
    "\n",
    "# 设置图形的大小\n",
    "plt.figure(figsize=(12, 6))\n",
    "\n",
    "# 绘制 NMSE 的分布\n",
    "plt.subplot(1, 2, 1)  # 1行2列的第1个\n",
    "plt.hist(total_nmse, bins=200, alpha=0.7, label='NMSE')\n",
    "# plt.yscale('log')  # 如果需要，开启对数尺度\n",
    "plt.xlabel('NMSE Value')\n",
    "plt.ylabel('Frequency')\n",
    "plt.title('Distribution of NMSE')\n",
    "plt.xlim(0, 1)  # 根据实际数据范围设置\n",
    "plt.legend()\n",
    "\n",
    "# 绘制 MAE 的分布\n",
    "plt.subplot(1, 2, 2)  # 1行2列的第2个\n",
    "plt.hist(total_mae, bins=50, alpha=0.7, color='red', label='MAE')\n",
    "plt.xlabel('MAE Value')\n",
    "plt.ylabel('Frequency')\n",
    "plt.title('Distribution of MAE')\n",
    "plt.xlim(0, 2)  # 根据实际数据范围设置\n",
    "plt.legend()\n",
    "\n",
    "# 显示整个图表\n",
    "plt.show()"
   ]
  },
  {
   "cell_type": "code",
   "execution_count": null,
   "metadata": {},
   "outputs": [],
   "source": []
  }
 ],
 "metadata": {
  "accelerator": "GPU",
  "colab": {
   "gpuType": "T4",
   "provenance": []
  },
  "kernelspec": {
   "display_name": "Python 3 (ipykernel)",
   "language": "python",
   "name": "python3"
  },
  "language_info": {
   "codemirror_mode": {
    "name": "ipython",
    "version": 3
   },
   "file_extension": ".py",
   "mimetype": "text/x-python",
   "name": "python",
   "nbconvert_exporter": "python",
   "pygments_lexer": "ipython3",
   "version": "3.9.18"
  }
 },
 "nbformat": 4,
 "nbformat_minor": 4
}
