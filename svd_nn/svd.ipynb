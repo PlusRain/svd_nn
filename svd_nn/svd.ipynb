{
  "nbformat": 4,
  "nbformat_minor": 0,
  "metadata": {
    "colab": {
      "provenance": [],
      "gpuType": "T4"
    },
    "kernelspec": {
      "name": "python3",
      "display_name": "Python 3"
    },
    "language_info": {
      "name": "python"
    },
    "accelerator": "GPU"
  },
  "cells": [
    {
      "cell_type": "code",
      "execution_count": 21,
      "metadata": {
        "id": "bTxt1KnCSKY2"
      },
      "outputs": [],
      "source": [
        "import torch\n",
        "import torchvision\n",
        "import torchvision.transforms as transforms\n",
        "import numpy as np\n",
        "import torch.nn as nn\n",
        "import torch.nn.functional as F\n",
        "device = torch.device(\"cuda\" if torch.cuda.is_available() else \"cpu\")"
      ]
    },
    {
      "cell_type": "code",
      "source": [
        "#  Download and load CIFAR-10 dataset\n",
        "transform = transforms.Compose([transforms.Grayscale(num_output_channels=1), transforms.ToTensor()])\n",
        "trainset = torchvision.datasets.CIFAR10(root='./data', train=True, download=True, transform=transform)\n",
        "trainloader = torch.utils.data.DataLoader(trainset, batch_size=64, shuffle=True)\n",
        "\n",
        "testset = torchvision.datasets.CIFAR10(root='./data', train=False, download=True, transform=transform)\n",
        "testloader = torch.utils.data.DataLoader(testset, batch_size=64, shuffle=False)\n",
        "\n",
        "def compute_svd_singular_values(image_batch):\n",
        "    singular_values = []\n",
        "    for image in image_batch:\n",
        "        U, S, V = torch.svd(image.squeeze())\n",
        "        singular_values.append(S)\n",
        "    return torch.stack(singular_values)\n",
        "\n",
        "# Compute singular values for train and test sets\n",
        "train_singular_values = [compute_svd_singular_values(batch[0]).to(device) for batch in trainloader]\n",
        "test_singular_values = [compute_svd_singular_values(batch[0]).to(device) for batch in testloader]"
      ],
      "metadata": {
        "colab": {
          "base_uri": "https://localhost:8080/"
        },
        "id": "C_tU9R-Uuixu",
        "outputId": "c68b675a-508c-4203-d58b-cca5d96c7dd6"
      },
      "execution_count": 8,
      "outputs": [
        {
          "output_type": "stream",
          "name": "stdout",
          "text": [
            "Downloading https://www.cs.toronto.edu/~kriz/cifar-10-python.tar.gz to ./data/cifar-10-python.tar.gz\n"
          ]
        },
        {
          "output_type": "stream",
          "name": "stderr",
          "text": [
            "100%|██████████| 170498071/170498071 [00:03<00:00, 45437512.31it/s]\n"
          ]
        },
        {
          "output_type": "stream",
          "name": "stdout",
          "text": [
            "Extracting ./data/cifar-10-python.tar.gz to ./data\n",
            "Files already downloaded and verified\n"
          ]
        }
      ]
    },
    {
      "cell_type": "code",
      "source": [
        "len(train_singular_values[0])"
      ],
      "metadata": {
        "colab": {
          "base_uri": "https://localhost:8080/"
        },
        "id": "SFxrnA5xvrGG",
        "outputId": "27ecdd24-0003-4cd4-c745-235ce20e30ec"
      },
      "execution_count": 14,
      "outputs": [
        {
          "output_type": "execute_result",
          "data": {
            "text/plain": [
              "64"
            ]
          },
          "metadata": {},
          "execution_count": 14
        }
      ]
    },
    {
      "cell_type": "markdown",
      "source": [
        "### Step 2: Neural Network Training\n",
        "\n",
        "#### A. Define the Neural Network Model"
      ],
      "metadata": {
        "id": "NZCrr0_4yB9w"
      }
    },
    {
      "cell_type": "code",
      "source": [
        "class SVDPredictor(nn.Module):\n",
        "    def __init__(self):\n",
        "        super(SVDPredictor, self).__init__()\n",
        "        self.fc1 = nn.Linear(32*32, 512)\n",
        "        self.fc2 = nn.Linear(512, 256)\n",
        "        self.fc3 = nn.Linear(256, 32)  # Predicting 32 singular values\n",
        "\n",
        "    def forward(self, x):\n",
        "        x = F.relu(self.fc1(x))\n",
        "        x = F.dropout(x, p=0.5)\n",
        "        x = F.relu(self.fc2(x))\n",
        "        x = F.dropout(x, p=0.5)\n",
        "        return self.fc3(x)\n",
        "\n",
        "# move the model to gpu\n",
        "model = SVDPredictor().to(device)"
      ],
      "metadata": {
        "id": "KF4aLf03xeFd"
      },
      "execution_count": 22,
      "outputs": []
    },
    {
      "cell_type": "markdown",
      "source": [
        "#### B. Define Loss Function and Optimizer"
      ],
      "metadata": {
        "id": "BZAjS1C4yLof"
      }
    },
    {
      "cell_type": "code",
      "source": [
        "import torch.optim as optim\n",
        "\n",
        "criterion = nn.L1Loss()\n",
        "optimizer = optim.Adam(model.parameters(), lr=0.001)\n"
      ],
      "metadata": {
        "id": "F_bcKTXEyQy2"
      },
      "execution_count": 19,
      "outputs": []
    },
    {
      "cell_type": "markdown",
      "source": [
        "#### C. Training the Model"
      ],
      "metadata": {
        "id": "8jAFgEBUyicy"
      }
    },
    {
      "cell_type": "code",
      "source": [
        "# Training loop\n",
        "num_epochs = 10  # Set the number of epochs\n",
        "print_every_n_batches = 100  # Print log after every 100 batches\n",
        "\n",
        "for epoch in range(num_epochs):\n",
        "    running_loss = 0.0\n",
        "    for i, (images, _) in enumerate(trainloader):\n",
        "        images = images.view(images.shape[0], -1).to(device)\n",
        "        labels = train_singular_values[i]  # Precomputed singular values\n",
        "\n",
        "        optimizer.zero_grad()\n",
        "        outputs = model(images)\n",
        "        loss = criterion(outputs, labels)\n",
        "        loss.backward()\n",
        "        optimizer.step()\n",
        "\n",
        "        running_loss += loss.item()\n",
        "\n",
        "        # Log the running loss\n",
        "        if (i + 1) % print_every_n_batches == 0:\n",
        "            print(f'Epoch [{epoch + 1}/{num_epochs}], Step [{i + 1}/{len(trainloader)}], Loss: {running_loss / print_every_n_batches:.4f}')\n",
        "            running_loss = 0.0\n",
        "\n",
        "print('Finished Training')\n",
        "\n"
      ],
      "metadata": {
        "colab": {
          "base_uri": "https://localhost:8080/"
        },
        "id": "NFIyGBHywHiy",
        "outputId": "12a3f109-a73d-41fb-e67f-5b053c2561bb"
      },
      "execution_count": 23,
      "outputs": [
        {
          "output_type": "stream",
          "name": "stdout",
          "text": [
            "Epoch [1/10], Step [100/782], Loss: 0.9002\n",
            "Epoch [1/10], Step [200/782], Loss: 0.9056\n",
            "Epoch [1/10], Step [300/782], Loss: 0.9026\n",
            "Epoch [1/10], Step [400/782], Loss: 0.8932\n",
            "Epoch [1/10], Step [500/782], Loss: 0.8980\n",
            "Epoch [1/10], Step [600/782], Loss: 0.8985\n",
            "Epoch [1/10], Step [700/782], Loss: 0.8946\n",
            "Epoch [2/10], Step [100/782], Loss: 0.9002\n",
            "Epoch [2/10], Step [200/782], Loss: 0.9056\n",
            "Epoch [2/10], Step [300/782], Loss: 0.9024\n",
            "Epoch [2/10], Step [400/782], Loss: 0.8929\n",
            "Epoch [2/10], Step [500/782], Loss: 0.8978\n",
            "Epoch [2/10], Step [600/782], Loss: 0.8985\n",
            "Epoch [2/10], Step [700/782], Loss: 0.8946\n",
            "Epoch [3/10], Step [100/782], Loss: 0.9001\n",
            "Epoch [3/10], Step [200/782], Loss: 0.9058\n",
            "Epoch [3/10], Step [300/782], Loss: 0.9027\n",
            "Epoch [3/10], Step [400/782], Loss: 0.8929\n",
            "Epoch [3/10], Step [500/782], Loss: 0.8981\n",
            "Epoch [3/10], Step [600/782], Loss: 0.8986\n",
            "Epoch [3/10], Step [700/782], Loss: 0.8946\n",
            "Epoch [4/10], Step [100/782], Loss: 0.9002\n",
            "Epoch [4/10], Step [200/782], Loss: 0.9055\n",
            "Epoch [4/10], Step [300/782], Loss: 0.9029\n",
            "Epoch [4/10], Step [400/782], Loss: 0.8927\n",
            "Epoch [4/10], Step [500/782], Loss: 0.8981\n",
            "Epoch [4/10], Step [600/782], Loss: 0.8986\n",
            "Epoch [4/10], Step [700/782], Loss: 0.8946\n",
            "Epoch [5/10], Step [100/782], Loss: 0.9001\n",
            "Epoch [5/10], Step [200/782], Loss: 0.9059\n",
            "Epoch [5/10], Step [300/782], Loss: 0.9029\n",
            "Epoch [5/10], Step [400/782], Loss: 0.8930\n",
            "Epoch [5/10], Step [500/782], Loss: 0.8980\n",
            "Epoch [5/10], Step [600/782], Loss: 0.8985\n",
            "Epoch [5/10], Step [700/782], Loss: 0.8942\n",
            "Epoch [6/10], Step [100/782], Loss: 0.9005\n",
            "Epoch [6/10], Step [200/782], Loss: 0.9058\n",
            "Epoch [6/10], Step [300/782], Loss: 0.9027\n",
            "Epoch [6/10], Step [400/782], Loss: 0.8931\n",
            "Epoch [6/10], Step [500/782], Loss: 0.8981\n",
            "Epoch [6/10], Step [600/782], Loss: 0.8986\n",
            "Epoch [6/10], Step [700/782], Loss: 0.8943\n",
            "Epoch [7/10], Step [100/782], Loss: 0.9003\n",
            "Epoch [7/10], Step [200/782], Loss: 0.9057\n",
            "Epoch [7/10], Step [300/782], Loss: 0.9027\n",
            "Epoch [7/10], Step [400/782], Loss: 0.8929\n",
            "Epoch [7/10], Step [500/782], Loss: 0.8982\n",
            "Epoch [7/10], Step [600/782], Loss: 0.8985\n",
            "Epoch [7/10], Step [700/782], Loss: 0.8945\n",
            "Epoch [8/10], Step [100/782], Loss: 0.9004\n",
            "Epoch [8/10], Step [200/782], Loss: 0.9056\n",
            "Epoch [8/10], Step [300/782], Loss: 0.9024\n",
            "Epoch [8/10], Step [400/782], Loss: 0.8931\n",
            "Epoch [8/10], Step [500/782], Loss: 0.8979\n",
            "Epoch [8/10], Step [600/782], Loss: 0.8986\n",
            "Epoch [8/10], Step [700/782], Loss: 0.8943\n",
            "Epoch [9/10], Step [100/782], Loss: 0.9005\n",
            "Epoch [9/10], Step [200/782], Loss: 0.9056\n",
            "Epoch [9/10], Step [300/782], Loss: 0.9026\n",
            "Epoch [9/10], Step [400/782], Loss: 0.8927\n",
            "Epoch [9/10], Step [500/782], Loss: 0.8981\n",
            "Epoch [9/10], Step [600/782], Loss: 0.8983\n",
            "Epoch [9/10], Step [700/782], Loss: 0.8946\n",
            "Epoch [10/10], Step [100/782], Loss: 0.8999\n",
            "Epoch [10/10], Step [200/782], Loss: 0.9054\n",
            "Epoch [10/10], Step [300/782], Loss: 0.9025\n",
            "Epoch [10/10], Step [400/782], Loss: 0.8927\n",
            "Epoch [10/10], Step [500/782], Loss: 0.8982\n",
            "Epoch [10/10], Step [600/782], Loss: 0.8985\n",
            "Epoch [10/10], Step [700/782], Loss: 0.8942\n",
            "Finished Training\n"
          ]
        }
      ]
    },
    {
      "cell_type": "markdown",
      "source": [
        "### Step 3: Evaluation\n"
      ],
      "metadata": {
        "id": "UFewTIJh0jKv"
      }
    },
    {
      "cell_type": "markdown",
      "source": [
        "##### Implementing NMSE and MAE Computation"
      ],
      "metadata": {
        "id": "fTH8TYUd1R2b"
      }
    },
    {
      "cell_type": "code",
      "source": [
        "def compute_nmse(outputs, labels):\n",
        "    mse = ((outputs - labels) ** 2).mean(axis=1)\n",
        "    norm = (labels ** 2).mean(axis=1)\n",
        "    nmse = mse / norm\n",
        "    return nmse.mean()\n",
        "\n",
        "def compute_mae(outputs, labels):\n",
        "    mae = torch.abs(outputs - labels).mean()\n",
        "    return mae\n"
      ],
      "metadata": {
        "id": "ehXV5nET1J6F"
      },
      "execution_count": 24,
      "outputs": []
    },
    {
      "cell_type": "code",
      "source": [
        "model.eval()  # Set the model to evaluation mode\n",
        "\n",
        "total_nmse = 0.0\n",
        "total_mae = 0.0\n",
        "total_samples = 0\n",
        "\n",
        "with torch.no_grad():\n",
        "    for i, (images, _) in enumerate(testloader):\n",
        "        images = images.view(images.shape[0], -1).to(device)\n",
        "        labels = test_singular_values[i]  # Use precomputed singular values\n",
        "\n",
        "        outputs = model(images)\n",
        "        nmse = compute_nmse(outputs, labels)\n",
        "        mae = compute_mae(outputs, labels)\n",
        "\n",
        "        total_nmse += nmse.item() * images.size(0)\n",
        "        total_mae += mae.item() * images.size(0)\n",
        "        total_samples += images.size(0)\n",
        "\n",
        "average_nmse = total_nmse / total_samples\n",
        "average_mae = total_mae / total_samples\n",
        "\n",
        "print(f'Average NMSE: {average_nmse:.4f}')\n",
        "print(f'Average MAE: {average_mae:.4f}')\n"
      ],
      "metadata": {
        "colab": {
          "base_uri": "https://localhost:8080/"
        },
        "id": "ZpsMur4-yvuf",
        "outputId": "95bab850-406c-49bd-bcfb-8c6189b5adfc"
      },
      "execution_count": 25,
      "outputs": [
        {
          "output_type": "stream",
          "name": "stdout",
          "text": [
            "Average NMSE: 0.9759\n",
            "Average MAE: 0.9023\n"
          ]
        }
      ]
    },
    {
      "cell_type": "code",
      "source": [],
      "metadata": {
        "id": "3Q14ruxM1yk6"
      },
      "execution_count": null,
      "outputs": []
    }
  ]
}