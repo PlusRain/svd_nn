{
 "cells": [
  {
   "cell_type": "code",
   "execution_count": 1,
   "metadata": {
    "id": "bTxt1KnCSKY2"
   },
   "outputs": [],
   "source": [
    "import torch\n",
    "import torchvision\n",
    "import torchvision.transforms as transforms\n",
    "import numpy as np\n",
    "import torch.nn as nn\n",
    "import torch.nn.functional as F\n",
    "device = torch.device(\"cuda\" if torch.cuda.is_available() else \"cpu\")"
   ]
  },
  {
   "cell_type": "code",
   "execution_count": 2,
   "metadata": {
    "colab": {
     "base_uri": "https://localhost:8080/"
    },
    "id": "C_tU9R-Uuixu",
    "outputId": "c68b675a-508c-4203-d58b-cca5d96c7dd6"
   },
   "outputs": [
    {
     "name": "stdout",
     "output_type": "stream",
     "text": [
      "Downloading https://www.cs.toronto.edu/~kriz/cifar-10-python.tar.gz to ./data/cifar-10-python.tar.gz\n"
     ]
    },
    {
     "name": "stderr",
     "output_type": "stream",
     "text": [
      "100.0%\n"
     ]
    },
    {
     "name": "stdout",
     "output_type": "stream",
     "text": [
      "Extracting ./data/cifar-10-python.tar.gz to ./data\n",
      "Files already downloaded and verified\n"
     ]
    }
   ],
   "source": [
    "#  Download and load CIFAR-10 dataset\n",
    "transform = transforms.Compose([transforms.Grayscale(num_output_channels=1), transforms.ToTensor()])\n",
    "trainset = torchvision.datasets.CIFAR10(root='./data', train=True, download=True, transform=transform)\n",
    "trainloader = torch.utils.data.DataLoader(trainset, batch_size=64, shuffle=True)\n",
    "\n",
    "testset = torchvision.datasets.CIFAR10(root='./data', train=False, download=True, transform=transform)\n",
    "testloader = torch.utils.data.DataLoader(testset, batch_size=64, shuffle=False)\n",
    "\n",
    "def compute_svd_singular_values(image_batch):\n",
    "    singular_values = []\n",
    "    for image in image_batch:\n",
    "        U, S, V = torch.svd(image.squeeze())\n",
    "        singular_values.append(S)\n",
    "    return torch.stack(singular_values)\n",
    "\n",
    "# Compute singular values for train and test sets\n",
    "train_singular_values = [compute_svd_singular_values(batch[0]).to(device) for batch in trainloader]\n",
    "test_singular_values = [compute_svd_singular_values(batch[0]).to(device) for batch in testloader]"
   ]
  },
  {
   "cell_type": "code",
   "execution_count": 14,
   "metadata": {
    "colab": {
     "base_uri": "https://localhost:8080/"
    },
    "id": "SFxrnA5xvrGG",
    "outputId": "27ecdd24-0003-4cd4-c745-235ce20e30ec"
   },
   "outputs": [
    {
     "data": {
      "text/plain": [
       "64"
      ]
     },
     "execution_count": 14,
     "metadata": {},
     "output_type": "execute_result"
    }
   ],
   "source": [
    "len(train_singular_values[0])"
   ]
  },
  {
   "cell_type": "markdown",
   "metadata": {
    "id": "NZCrr0_4yB9w"
   },
   "source": [
    "### Step 2: Neural Network Training\n",
    "\n",
    "#### A. Define the Neural Network Model"
   ]
  },
  {
   "cell_type": "code",
   "execution_count": 4,
   "metadata": {
    "id": "KF4aLf03xeFd"
   },
   "outputs": [],
   "source": [
    "class SVDPredictor(nn.Module):\n",
    "    def __init__(self):\n",
    "        super(SVDPredictor, self).__init__()\n",
    "        self.fc1 = nn.Linear(32*32, 512)\n",
    "        self.fc2 = nn.Linear(512, 256)\n",
    "        self.fc3 = nn.Linear(256, 32)  # Predicting 32 singular values\n",
    "\n",
    "    def forward(self, x):\n",
    "        x = F.relu(self.fc1(x))\n",
    "        x = F.dropout(x, p=0.5)\n",
    "        x = F.relu(self.fc2(x))\n",
    "        x = F.dropout(x, p=0.5)\n",
    "        return self.fc3(x)\n",
    "\n",
    "# move the model to gpu\n",
    "model = SVDPredictor().to(device)"
   ]
  },
  {
   "cell_type": "markdown",
   "metadata": {
    "id": "BZAjS1C4yLof"
   },
   "source": [
    "#### B. Define Loss Function and Optimizer"
   ]
  },
  {
   "cell_type": "code",
   "execution_count": 14,
   "metadata": {
    "id": "F_bcKTXEyQy2"
   },
   "outputs": [],
   "source": [
    "import torch.optim as optim\n",
    "\n",
    "criterion = nn.L1Loss()\n",
    "optimizer = optim.Adam(model.parameters(), lr=0.00001)\n"
   ]
  },
  {
   "cell_type": "markdown",
   "metadata": {
    "id": "8jAFgEBUyicy"
   },
   "source": [
    "#### C. Training the Model"
   ]
  },
  {
   "cell_type": "code",
   "execution_count": 15,
   "metadata": {
    "colab": {
     "base_uri": "https://localhost:8080/"
    },
    "id": "NFIyGBHywHiy",
    "outputId": "12a3f109-a73d-41fb-e67f-5b053c2561bb"
   },
   "outputs": [
    {
     "name": "stdout",
     "output_type": "stream",
     "text": [
      "Epoch [1/50], Step [100/782], Loss: 0.2069\n",
      "Epoch [1/50], Step [200/782], Loss: 0.2057\n",
      "Epoch [1/50], Step [300/782], Loss: 0.2046\n",
      "Epoch [1/50], Step [400/782], Loss: 0.2032\n",
      "Epoch [1/50], Step [500/782], Loss: 0.2048\n",
      "Epoch [1/50], Step [600/782], Loss: 0.2059\n",
      "Epoch [1/50], Step [700/782], Loss: 0.2057\n",
      "Epoch [2/50], Step [100/782], Loss: 0.2070\n",
      "Epoch [2/50], Step [200/782], Loss: 0.2056\n",
      "Epoch [2/50], Step [300/782], Loss: 0.2053\n",
      "Epoch [2/50], Step [400/782], Loss: 0.2036\n",
      "Epoch [2/50], Step [500/782], Loss: 0.2047\n",
      "Epoch [2/50], Step [600/782], Loss: 0.2058\n",
      "Epoch [2/50], Step [700/782], Loss: 0.2051\n",
      "Epoch [3/50], Step [100/782], Loss: 0.2066\n",
      "Epoch [3/50], Step [200/782], Loss: 0.2056\n",
      "Epoch [3/50], Step [300/782], Loss: 0.2056\n",
      "Epoch [3/50], Step [400/782], Loss: 0.2038\n",
      "Epoch [3/50], Step [500/782], Loss: 0.2045\n",
      "Epoch [3/50], Step [600/782], Loss: 0.2059\n",
      "Epoch [3/50], Step [700/782], Loss: 0.2051\n",
      "Epoch [4/50], Step [100/782], Loss: 0.2065\n",
      "Epoch [4/50], Step [200/782], Loss: 0.2058\n",
      "Epoch [4/50], Step [300/782], Loss: 0.2051\n",
      "Epoch [4/50], Step [400/782], Loss: 0.2038\n",
      "Epoch [4/50], Step [500/782], Loss: 0.2044\n",
      "Epoch [4/50], Step [600/782], Loss: 0.2058\n",
      "Epoch [4/50], Step [700/782], Loss: 0.2054\n",
      "Epoch [5/50], Step [100/782], Loss: 0.2067\n",
      "Epoch [5/50], Step [200/782], Loss: 0.2060\n",
      "Epoch [5/50], Step [300/782], Loss: 0.2057\n",
      "Epoch [5/50], Step [400/782], Loss: 0.2036\n",
      "Epoch [5/50], Step [500/782], Loss: 0.2045\n",
      "Epoch [5/50], Step [600/782], Loss: 0.2063\n",
      "Epoch [5/50], Step [700/782], Loss: 0.2050\n",
      "Epoch [6/50], Step [100/782], Loss: 0.2065\n",
      "Epoch [6/50], Step [200/782], Loss: 0.2059\n",
      "Epoch [6/50], Step [300/782], Loss: 0.2054\n",
      "Epoch [6/50], Step [400/782], Loss: 0.2035\n",
      "Epoch [6/50], Step [500/782], Loss: 0.2042\n",
      "Epoch [6/50], Step [600/782], Loss: 0.2058\n",
      "Epoch [6/50], Step [700/782], Loss: 0.2055\n",
      "Epoch [7/50], Step [100/782], Loss: 0.2072\n",
      "Epoch [7/50], Step [200/782], Loss: 0.2053\n",
      "Epoch [7/50], Step [300/782], Loss: 0.2051\n",
      "Epoch [7/50], Step [400/782], Loss: 0.2035\n",
      "Epoch [7/50], Step [500/782], Loss: 0.2045\n",
      "Epoch [7/50], Step [600/782], Loss: 0.2060\n",
      "Epoch [7/50], Step [700/782], Loss: 0.2056\n",
      "Epoch [8/50], Step [100/782], Loss: 0.2063\n",
      "Epoch [8/50], Step [200/782], Loss: 0.2055\n",
      "Epoch [8/50], Step [300/782], Loss: 0.2054\n",
      "Epoch [8/50], Step [400/782], Loss: 0.2037\n",
      "Epoch [8/50], Step [500/782], Loss: 0.2047\n",
      "Epoch [8/50], Step [600/782], Loss: 0.2058\n",
      "Epoch [8/50], Step [700/782], Loss: 0.2053\n",
      "Epoch [9/50], Step [100/782], Loss: 0.2063\n",
      "Epoch [9/50], Step [200/782], Loss: 0.2055\n",
      "Epoch [9/50], Step [300/782], Loss: 0.2056\n",
      "Epoch [9/50], Step [400/782], Loss: 0.2031\n",
      "Epoch [9/50], Step [500/782], Loss: 0.2042\n",
      "Epoch [9/50], Step [600/782], Loss: 0.2056\n",
      "Epoch [9/50], Step [700/782], Loss: 0.2054\n",
      "Epoch [10/50], Step [100/782], Loss: 0.2069\n",
      "Epoch [10/50], Step [200/782], Loss: 0.2058\n",
      "Epoch [10/50], Step [300/782], Loss: 0.2055\n",
      "Epoch [10/50], Step [400/782], Loss: 0.2038\n",
      "Epoch [10/50], Step [500/782], Loss: 0.2041\n",
      "Epoch [10/50], Step [600/782], Loss: 0.2057\n",
      "Epoch [10/50], Step [700/782], Loss: 0.2055\n",
      "Epoch [11/50], Step [100/782], Loss: 0.2066\n",
      "Epoch [11/50], Step [200/782], Loss: 0.2057\n",
      "Epoch [11/50], Step [300/782], Loss: 0.2050\n",
      "Epoch [11/50], Step [400/782], Loss: 0.2038\n",
      "Epoch [11/50], Step [500/782], Loss: 0.2048\n",
      "Epoch [11/50], Step [600/782], Loss: 0.2060\n",
      "Epoch [11/50], Step [700/782], Loss: 0.2050\n",
      "Epoch [12/50], Step [100/782], Loss: 0.2065\n",
      "Epoch [12/50], Step [200/782], Loss: 0.2059\n",
      "Epoch [12/50], Step [300/782], Loss: 0.2053\n",
      "Epoch [12/50], Step [400/782], Loss: 0.2035\n",
      "Epoch [12/50], Step [500/782], Loss: 0.2043\n",
      "Epoch [12/50], Step [600/782], Loss: 0.2059\n",
      "Epoch [12/50], Step [700/782], Loss: 0.2050\n",
      "Epoch [13/50], Step [100/782], Loss: 0.2066\n",
      "Epoch [13/50], Step [200/782], Loss: 0.2056\n",
      "Epoch [13/50], Step [300/782], Loss: 0.2052\n",
      "Epoch [13/50], Step [400/782], Loss: 0.2034\n",
      "Epoch [13/50], Step [500/782], Loss: 0.2047\n",
      "Epoch [13/50], Step [600/782], Loss: 0.2057\n",
      "Epoch [13/50], Step [700/782], Loss: 0.2053\n",
      "Epoch [14/50], Step [100/782], Loss: 0.2070\n",
      "Epoch [14/50], Step [200/782], Loss: 0.2059\n",
      "Epoch [14/50], Step [300/782], Loss: 0.2054\n",
      "Epoch [14/50], Step [400/782], Loss: 0.2035\n",
      "Epoch [14/50], Step [500/782], Loss: 0.2047\n",
      "Epoch [14/50], Step [600/782], Loss: 0.2061\n",
      "Epoch [14/50], Step [700/782], Loss: 0.2050\n",
      "Epoch [15/50], Step [100/782], Loss: 0.2064\n",
      "Epoch [15/50], Step [200/782], Loss: 0.2057\n",
      "Epoch [15/50], Step [300/782], Loss: 0.2051\n",
      "Epoch [15/50], Step [400/782], Loss: 0.2033\n",
      "Epoch [15/50], Step [500/782], Loss: 0.2051\n",
      "Epoch [15/50], Step [600/782], Loss: 0.2061\n",
      "Epoch [15/50], Step [700/782], Loss: 0.2053\n",
      "Epoch [16/50], Step [100/782], Loss: 0.2064\n",
      "Epoch [16/50], Step [200/782], Loss: 0.2054\n",
      "Epoch [16/50], Step [300/782], Loss: 0.2058\n",
      "Epoch [16/50], Step [400/782], Loss: 0.2034\n",
      "Epoch [16/50], Step [500/782], Loss: 0.2046\n",
      "Epoch [16/50], Step [600/782], Loss: 0.2058\n",
      "Epoch [16/50], Step [700/782], Loss: 0.2049\n",
      "Epoch [17/50], Step [100/782], Loss: 0.2067\n",
      "Epoch [17/50], Step [200/782], Loss: 0.2061\n",
      "Epoch [17/50], Step [300/782], Loss: 0.2050\n",
      "Epoch [17/50], Step [400/782], Loss: 0.2036\n",
      "Epoch [17/50], Step [500/782], Loss: 0.2046\n",
      "Epoch [17/50], Step [600/782], Loss: 0.2061\n",
      "Epoch [17/50], Step [700/782], Loss: 0.2050\n",
      "Epoch [18/50], Step [100/782], Loss: 0.2067\n",
      "Epoch [18/50], Step [200/782], Loss: 0.2055\n",
      "Epoch [18/50], Step [300/782], Loss: 0.2050\n",
      "Epoch [18/50], Step [400/782], Loss: 0.2038\n",
      "Epoch [18/50], Step [500/782], Loss: 0.2047\n",
      "Epoch [18/50], Step [600/782], Loss: 0.2059\n",
      "Epoch [18/50], Step [700/782], Loss: 0.2056\n",
      "Epoch [19/50], Step [100/782], Loss: 0.2067\n",
      "Epoch [19/50], Step [200/782], Loss: 0.2052\n",
      "Epoch [19/50], Step [300/782], Loss: 0.2051\n",
      "Epoch [19/50], Step [400/782], Loss: 0.2033\n",
      "Epoch [19/50], Step [500/782], Loss: 0.2046\n",
      "Epoch [19/50], Step [600/782], Loss: 0.2054\n",
      "Epoch [19/50], Step [700/782], Loss: 0.2050\n",
      "Epoch [20/50], Step [100/782], Loss: 0.2066\n",
      "Epoch [20/50], Step [200/782], Loss: 0.2055\n",
      "Epoch [20/50], Step [300/782], Loss: 0.2052\n",
      "Epoch [20/50], Step [400/782], Loss: 0.2035\n",
      "Epoch [20/50], Step [500/782], Loss: 0.2044\n",
      "Epoch [20/50], Step [600/782], Loss: 0.2059\n",
      "Epoch [20/50], Step [700/782], Loss: 0.2050\n",
      "Epoch [21/50], Step [100/782], Loss: 0.2065\n",
      "Epoch [21/50], Step [200/782], Loss: 0.2057\n",
      "Epoch [21/50], Step [300/782], Loss: 0.2054\n",
      "Epoch [21/50], Step [400/782], Loss: 0.2036\n",
      "Epoch [21/50], Step [500/782], Loss: 0.2046\n",
      "Epoch [21/50], Step [600/782], Loss: 0.2060\n",
      "Epoch [21/50], Step [700/782], Loss: 0.2054\n",
      "Epoch [22/50], Step [100/782], Loss: 0.2064\n",
      "Epoch [22/50], Step [200/782], Loss: 0.2057\n",
      "Epoch [22/50], Step [300/782], Loss: 0.2055\n",
      "Epoch [22/50], Step [400/782], Loss: 0.2036\n",
      "Epoch [22/50], Step [500/782], Loss: 0.2046\n",
      "Epoch [22/50], Step [600/782], Loss: 0.2059\n",
      "Epoch [22/50], Step [700/782], Loss: 0.2053\n",
      "Epoch [23/50], Step [100/782], Loss: 0.2067\n",
      "Epoch [23/50], Step [200/782], Loss: 0.2057\n",
      "Epoch [23/50], Step [300/782], Loss: 0.2048\n",
      "Epoch [23/50], Step [400/782], Loss: 0.2037\n",
      "Epoch [23/50], Step [500/782], Loss: 0.2047\n",
      "Epoch [23/50], Step [600/782], Loss: 0.2061\n",
      "Epoch [23/50], Step [700/782], Loss: 0.2048\n",
      "Epoch [24/50], Step [100/782], Loss: 0.2062\n",
      "Epoch [24/50], Step [200/782], Loss: 0.2056\n",
      "Epoch [24/50], Step [300/782], Loss: 0.2054\n",
      "Epoch [24/50], Step [400/782], Loss: 0.2035\n",
      "Epoch [24/50], Step [500/782], Loss: 0.2043\n",
      "Epoch [24/50], Step [600/782], Loss: 0.2057\n",
      "Epoch [24/50], Step [700/782], Loss: 0.2051\n",
      "Epoch [25/50], Step [100/782], Loss: 0.2062\n",
      "Epoch [25/50], Step [200/782], Loss: 0.2060\n",
      "Epoch [25/50], Step [300/782], Loss: 0.2056\n",
      "Epoch [25/50], Step [400/782], Loss: 0.2040\n",
      "Epoch [25/50], Step [500/782], Loss: 0.2047\n",
      "Epoch [25/50], Step [600/782], Loss: 0.2056\n",
      "Epoch [25/50], Step [700/782], Loss: 0.2051\n",
      "Epoch [26/50], Step [100/782], Loss: 0.2065\n",
      "Epoch [26/50], Step [200/782], Loss: 0.2054\n",
      "Epoch [26/50], Step [300/782], Loss: 0.2051\n",
      "Epoch [26/50], Step [400/782], Loss: 0.2032\n",
      "Epoch [26/50], Step [500/782], Loss: 0.2048\n",
      "Epoch [26/50], Step [600/782], Loss: 0.2065\n",
      "Epoch [26/50], Step [700/782], Loss: 0.2051\n",
      "Epoch [27/50], Step [100/782], Loss: 0.2068\n",
      "Epoch [27/50], Step [200/782], Loss: 0.2056\n",
      "Epoch [27/50], Step [300/782], Loss: 0.2051\n",
      "Epoch [27/50], Step [400/782], Loss: 0.2033\n",
      "Epoch [27/50], Step [500/782], Loss: 0.2050\n",
      "Epoch [27/50], Step [600/782], Loss: 0.2062\n",
      "Epoch [27/50], Step [700/782], Loss: 0.2052\n",
      "Epoch [28/50], Step [100/782], Loss: 0.2065\n",
      "Epoch [28/50], Step [200/782], Loss: 0.2061\n",
      "Epoch [28/50], Step [300/782], Loss: 0.2056\n",
      "Epoch [28/50], Step [400/782], Loss: 0.2034\n",
      "Epoch [28/50], Step [500/782], Loss: 0.2041\n",
      "Epoch [28/50], Step [600/782], Loss: 0.2058\n",
      "Epoch [28/50], Step [700/782], Loss: 0.2052\n",
      "Epoch [29/50], Step [100/782], Loss: 0.2066\n",
      "Epoch [29/50], Step [200/782], Loss: 0.2056\n",
      "Epoch [29/50], Step [300/782], Loss: 0.2053\n",
      "Epoch [29/50], Step [400/782], Loss: 0.2039\n",
      "Epoch [29/50], Step [500/782], Loss: 0.2044\n",
      "Epoch [29/50], Step [600/782], Loss: 0.2059\n",
      "Epoch [29/50], Step [700/782], Loss: 0.2050\n",
      "Epoch [30/50], Step [100/782], Loss: 0.2064\n",
      "Epoch [30/50], Step [200/782], Loss: 0.2054\n",
      "Epoch [30/50], Step [300/782], Loss: 0.2054\n",
      "Epoch [30/50], Step [400/782], Loss: 0.2035\n",
      "Epoch [30/50], Step [500/782], Loss: 0.2044\n",
      "Epoch [30/50], Step [600/782], Loss: 0.2058\n",
      "Epoch [30/50], Step [700/782], Loss: 0.2051\n",
      "Epoch [31/50], Step [100/782], Loss: 0.2062\n",
      "Epoch [31/50], Step [200/782], Loss: 0.2058\n",
      "Epoch [31/50], Step [300/782], Loss: 0.2049\n",
      "Epoch [31/50], Step [400/782], Loss: 0.2037\n",
      "Epoch [31/50], Step [500/782], Loss: 0.2049\n",
      "Epoch [31/50], Step [600/782], Loss: 0.2055\n",
      "Epoch [31/50], Step [700/782], Loss: 0.2053\n",
      "Epoch [32/50], Step [100/782], Loss: 0.2069\n",
      "Epoch [32/50], Step [200/782], Loss: 0.2060\n",
      "Epoch [32/50], Step [300/782], Loss: 0.2056\n",
      "Epoch [32/50], Step [400/782], Loss: 0.2039\n",
      "Epoch [32/50], Step [500/782], Loss: 0.2046\n",
      "Epoch [32/50], Step [600/782], Loss: 0.2058\n",
      "Epoch [32/50], Step [700/782], Loss: 0.2056\n",
      "Epoch [33/50], Step [100/782], Loss: 0.2068\n",
      "Epoch [33/50], Step [200/782], Loss: 0.2057\n",
      "Epoch [33/50], Step [300/782], Loss: 0.2054\n",
      "Epoch [33/50], Step [400/782], Loss: 0.2035\n",
      "Epoch [33/50], Step [500/782], Loss: 0.2047\n",
      "Epoch [33/50], Step [600/782], Loss: 0.2055\n",
      "Epoch [33/50], Step [700/782], Loss: 0.2053\n",
      "Epoch [34/50], Step [100/782], Loss: 0.2067\n",
      "Epoch [34/50], Step [200/782], Loss: 0.2057\n",
      "Epoch [34/50], Step [300/782], Loss: 0.2047\n",
      "Epoch [34/50], Step [400/782], Loss: 0.2037\n",
      "Epoch [34/50], Step [500/782], Loss: 0.2049\n",
      "Epoch [34/50], Step [600/782], Loss: 0.2059\n",
      "Epoch [34/50], Step [700/782], Loss: 0.2053\n",
      "Epoch [35/50], Step [100/782], Loss: 0.2070\n",
      "Epoch [35/50], Step [200/782], Loss: 0.2058\n",
      "Epoch [35/50], Step [300/782], Loss: 0.2052\n",
      "Epoch [35/50], Step [400/782], Loss: 0.2034\n",
      "Epoch [35/50], Step [500/782], Loss: 0.2047\n",
      "Epoch [35/50], Step [600/782], Loss: 0.2061\n",
      "Epoch [35/50], Step [700/782], Loss: 0.2052\n",
      "Epoch [36/50], Step [100/782], Loss: 0.2064\n",
      "Epoch [36/50], Step [200/782], Loss: 0.2055\n",
      "Epoch [36/50], Step [300/782], Loss: 0.2050\n",
      "Epoch [36/50], Step [400/782], Loss: 0.2044\n",
      "Epoch [36/50], Step [500/782], Loss: 0.2049\n",
      "Epoch [36/50], Step [600/782], Loss: 0.2057\n",
      "Epoch [36/50], Step [700/782], Loss: 0.2052\n",
      "Epoch [37/50], Step [100/782], Loss: 0.2066\n",
      "Epoch [37/50], Step [200/782], Loss: 0.2058\n",
      "Epoch [37/50], Step [300/782], Loss: 0.2060\n",
      "Epoch [37/50], Step [400/782], Loss: 0.2038\n",
      "Epoch [37/50], Step [500/782], Loss: 0.2048\n",
      "Epoch [37/50], Step [600/782], Loss: 0.2056\n",
      "Epoch [37/50], Step [700/782], Loss: 0.2051\n",
      "Epoch [38/50], Step [100/782], Loss: 0.2068\n",
      "Epoch [38/50], Step [200/782], Loss: 0.2055\n",
      "Epoch [38/50], Step [300/782], Loss: 0.2055\n",
      "Epoch [38/50], Step [400/782], Loss: 0.2036\n",
      "Epoch [38/50], Step [500/782], Loss: 0.2047\n",
      "Epoch [38/50], Step [600/782], Loss: 0.2057\n",
      "Epoch [38/50], Step [700/782], Loss: 0.2055\n",
      "Epoch [39/50], Step [100/782], Loss: 0.2064\n",
      "Epoch [39/50], Step [200/782], Loss: 0.2054\n",
      "Epoch [39/50], Step [300/782], Loss: 0.2052\n",
      "Epoch [39/50], Step [400/782], Loss: 0.2038\n",
      "Epoch [39/50], Step [500/782], Loss: 0.2049\n",
      "Epoch [39/50], Step [600/782], Loss: 0.2058\n",
      "Epoch [39/50], Step [700/782], Loss: 0.2050\n",
      "Epoch [40/50], Step [100/782], Loss: 0.2065\n",
      "Epoch [40/50], Step [200/782], Loss: 0.2060\n",
      "Epoch [40/50], Step [300/782], Loss: 0.2053\n",
      "Epoch [40/50], Step [400/782], Loss: 0.2040\n",
      "Epoch [40/50], Step [500/782], Loss: 0.2043\n",
      "Epoch [40/50], Step [600/782], Loss: 0.2060\n",
      "Epoch [40/50], Step [700/782], Loss: 0.2052\n",
      "Epoch [41/50], Step [100/782], Loss: 0.2068\n",
      "Epoch [41/50], Step [200/782], Loss: 0.2059\n",
      "Epoch [41/50], Step [300/782], Loss: 0.2058\n",
      "Epoch [41/50], Step [400/782], Loss: 0.2038\n",
      "Epoch [41/50], Step [500/782], Loss: 0.2044\n",
      "Epoch [41/50], Step [600/782], Loss: 0.2053\n",
      "Epoch [41/50], Step [700/782], Loss: 0.2053\n",
      "Epoch [42/50], Step [100/782], Loss: 0.2063\n",
      "Epoch [42/50], Step [200/782], Loss: 0.2056\n",
      "Epoch [42/50], Step [300/782], Loss: 0.2055\n",
      "Epoch [42/50], Step [400/782], Loss: 0.2036\n",
      "Epoch [42/50], Step [500/782], Loss: 0.2048\n",
      "Epoch [42/50], Step [600/782], Loss: 0.2059\n",
      "Epoch [42/50], Step [700/782], Loss: 0.2054\n",
      "Epoch [43/50], Step [100/782], Loss: 0.2063\n",
      "Epoch [43/50], Step [200/782], Loss: 0.2058\n",
      "Epoch [43/50], Step [300/782], Loss: 0.2056\n",
      "Epoch [43/50], Step [400/782], Loss: 0.2034\n",
      "Epoch [43/50], Step [500/782], Loss: 0.2045\n",
      "Epoch [43/50], Step [600/782], Loss: 0.2057\n",
      "Epoch [43/50], Step [700/782], Loss: 0.2054\n",
      "Epoch [44/50], Step [100/782], Loss: 0.2065\n",
      "Epoch [44/50], Step [200/782], Loss: 0.2056\n",
      "Epoch [44/50], Step [300/782], Loss: 0.2055\n",
      "Epoch [44/50], Step [400/782], Loss: 0.2036\n",
      "Epoch [44/50], Step [500/782], Loss: 0.2044\n",
      "Epoch [44/50], Step [600/782], Loss: 0.2060\n",
      "Epoch [44/50], Step [700/782], Loss: 0.2055\n",
      "Epoch [45/50], Step [100/782], Loss: 0.2064\n",
      "Epoch [45/50], Step [200/782], Loss: 0.2058\n",
      "Epoch [45/50], Step [300/782], Loss: 0.2053\n",
      "Epoch [45/50], Step [400/782], Loss: 0.2033\n",
      "Epoch [45/50], Step [500/782], Loss: 0.2046\n",
      "Epoch [45/50], Step [600/782], Loss: 0.2057\n",
      "Epoch [45/50], Step [700/782], Loss: 0.2052\n",
      "Epoch [46/50], Step [100/782], Loss: 0.2066\n",
      "Epoch [46/50], Step [200/782], Loss: 0.2054\n",
      "Epoch [46/50], Step [300/782], Loss: 0.2053\n",
      "Epoch [46/50], Step [400/782], Loss: 0.2036\n",
      "Epoch [46/50], Step [500/782], Loss: 0.2047\n",
      "Epoch [46/50], Step [600/782], Loss: 0.2060\n",
      "Epoch [46/50], Step [700/782], Loss: 0.2048\n",
      "Epoch [47/50], Step [100/782], Loss: 0.2066\n",
      "Epoch [47/50], Step [200/782], Loss: 0.2054\n",
      "Epoch [47/50], Step [300/782], Loss: 0.2055\n",
      "Epoch [47/50], Step [400/782], Loss: 0.2039\n",
      "Epoch [47/50], Step [500/782], Loss: 0.2046\n",
      "Epoch [47/50], Step [600/782], Loss: 0.2056\n",
      "Epoch [47/50], Step [700/782], Loss: 0.2050\n",
      "Epoch [48/50], Step [100/782], Loss: 0.2066\n",
      "Epoch [48/50], Step [200/782], Loss: 0.2056\n",
      "Epoch [48/50], Step [300/782], Loss: 0.2057\n",
      "Epoch [48/50], Step [400/782], Loss: 0.2035\n",
      "Epoch [48/50], Step [500/782], Loss: 0.2045\n",
      "Epoch [48/50], Step [600/782], Loss: 0.2060\n",
      "Epoch [48/50], Step [700/782], Loss: 0.2051\n",
      "Epoch [49/50], Step [100/782], Loss: 0.2063\n",
      "Epoch [49/50], Step [200/782], Loss: 0.2052\n",
      "Epoch [49/50], Step [300/782], Loss: 0.2051\n",
      "Epoch [49/50], Step [400/782], Loss: 0.2034\n",
      "Epoch [49/50], Step [500/782], Loss: 0.2046\n",
      "Epoch [49/50], Step [600/782], Loss: 0.2056\n",
      "Epoch [49/50], Step [700/782], Loss: 0.2052\n",
      "Epoch [50/50], Step [100/782], Loss: 0.2063\n",
      "Epoch [50/50], Step [200/782], Loss: 0.2057\n",
      "Epoch [50/50], Step [300/782], Loss: 0.2049\n",
      "Epoch [50/50], Step [400/782], Loss: 0.2033\n",
      "Epoch [50/50], Step [500/782], Loss: 0.2046\n",
      "Epoch [50/50], Step [600/782], Loss: 0.2061\n",
      "Epoch [50/50], Step [700/782], Loss: 0.2053\n",
      "Finished Training\n"
     ]
    }
   ],
   "source": [
    "# Training loop\n",
    "num_epochs = 50  # Set the number of epochs\n",
    "print_every_n_batches = 100  # Print log after every 100 batches\n",
    "\n",
    "for epoch in range(num_epochs):\n",
    "    running_loss = 0.0\n",
    "    for i, (images, _) in enumerate(trainloader):\n",
    "        images = images.view(images.shape[0], -1).to(device)\n",
    "        labels = train_singular_values[i]  # Precomputed singular values\n",
    "\n",
    "        optimizer.zero_grad()\n",
    "        outputs = model(images)\n",
    "        loss = criterion(outputs, labels)\n",
    "        loss.backward()\n",
    "        optimizer.step()\n",
    "\n",
    "        running_loss += loss.item()\n",
    "\n",
    "        # Log the running loss\n",
    "        if (i + 1) % print_every_n_batches == 0:\n",
    "            print(f'Epoch [{epoch + 1}/{num_epochs}], Step [{i + 1}/{len(trainloader)}], Loss: {running_loss / print_every_n_batches:.4f}')\n",
    "            running_loss = 0.0\n",
    "\n",
    "print('Finished Training')\n",
    "\n"
   ]
  },
  {
   "cell_type": "markdown",
   "metadata": {
    "id": "UFewTIJh0jKv"
   },
   "source": [
    "### Step 3: Evaluation\n"
   ]
  },
  {
   "cell_type": "markdown",
   "metadata": {
    "id": "fTH8TYUd1R2b"
   },
   "source": [
    "##### Implementing NMSE and MAE Computation"
   ]
  },
  {
   "cell_type": "code",
   "execution_count": 16,
   "metadata": {
    "id": "ehXV5nET1J6F"
   },
   "outputs": [],
   "source": [
    "def compute_nmse(outputs, labels):\n",
    "    mse = ((outputs - labels) ** 2).mean(axis=1)\n",
    "    norm = (labels ** 2).mean(axis=1)\n",
    "    nmse = mse / norm\n",
    "    return nmse.mean()\n",
    "\n",
    "def compute_mae(outputs, labels):\n",
    "    mae = torch.abs(outputs - labels).mean()\n",
    "    return mae\n"
   ]
  },
  {
   "cell_type": "code",
   "execution_count": 17,
   "metadata": {
    "colab": {
     "base_uri": "https://localhost:8080/"
    },
    "id": "ZpsMur4-yvuf",
    "outputId": "95bab850-406c-49bd-bcfb-8c6189b5adfc"
   },
   "outputs": [
    {
     "name": "stdout",
     "output_type": "stream",
     "text": [
      "Average NMSE: 0.0862\n",
      "Average MAE: 0.2049\n"
     ]
    }
   ],
   "source": [
    "model.eval()  # Set the model to evaluation mode\n",
    "\n",
    "total_nmse = 0.0\n",
    "total_mae = 0.0\n",
    "total_samples = 0\n",
    "\n",
    "with torch.no_grad():\n",
    "    for i, (images, _) in enumerate(testloader):\n",
    "        images = images.view(images.shape[0], -1).to(device)\n",
    "        labels = test_singular_values[i]  # Use precomputed singular values\n",
    "\n",
    "        outputs = model(images)\n",
    "        nmse = compute_nmse(outputs, labels)\n",
    "        mae = compute_mae(outputs, labels)\n",
    "\n",
    "        total_nmse += nmse.item() * images.size(0)\n",
    "        total_mae += mae.item() * images.size(0)\n",
    "        total_samples += images.size(0)\n",
    "\n",
    "average_nmse = total_nmse / total_samples\n",
    "average_mae = total_mae / total_samples\n",
    "\n",
    "print(f'Average NMSE: {average_nmse:.4f}')\n",
    "print(f'Average MAE: {average_mae:.4f}')\n"
   ]
  },
  {
   "cell_type": "code",
   "execution_count": null,
   "metadata": {
    "id": "3Q14ruxM1yk6"
   },
   "outputs": [],
   "source": []
  }
 ],
 "metadata": {
  "accelerator": "GPU",
  "colab": {
   "gpuType": "T4",
   "provenance": []
  },
  "kernelspec": {
   "display_name": "Python 3 (ipykernel)",
   "language": "python",
   "name": "python3"
  },
  "language_info": {
   "codemirror_mode": {
    "name": "ipython",
    "version": 3
   },
   "file_extension": ".py",
   "mimetype": "text/x-python",
   "name": "python",
   "nbconvert_exporter": "python",
   "pygments_lexer": "ipython3",
   "version": "3.9.18"
  }
 },
 "nbformat": 4,
 "nbformat_minor": 4
}
